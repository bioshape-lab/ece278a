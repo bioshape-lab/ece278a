{
 "cells": [
  {
   "cell_type": "markdown",
   "metadata": {
    "slideshow": {
     "slide_type": "slide"
    }
   },
   "source": [
    "# Image Alignment and Stitching"
   ]
  },
  {
   "cell_type": "markdown",
   "metadata": {},
   "source": [
    "<center><img src=\"figs/00_dip.jpeg\" width=500px alt=\"default\"/></center>\n"
   ]
  },
  {
   "cell_type": "markdown",
   "metadata": {
    "slideshow": {
     "slide_type": "slide"
    }
   },
   "source": [
    "# Last Lecture\n",
    "\n",
    "- 01: Image Formation Models (Ch. 2)\n",
    "- 02: Image Operators and Transforms (Ch. 3)\n",
    "- **03: Feature Detection, Matching, Segmentation (Ch. 7)**\n",
    "- 04: Image Alignment and Stitching (Ch. 8)\n",
    "- 05: 3D Reconstruction (Ch. 13)\n",
    "\n",
    "We saw how to find features in the images:\n",
    "- sometimes these features are meant to be \"matched\" for a downstream task,\n",
    "- sometimes these features are interesting in themselves (boundaries of objects)."
   ]
  },
  {
   "cell_type": "markdown",
   "metadata": {
    "slideshow": {
     "slide_type": "slide"
    }
   },
   "source": [
    "# Last Lecture\n",
    "\n",
    "- 01: Image Formation Models (Ch. 2)\n",
    "- 02: Image Operators and Transforms (Ch. 3)\n",
    "- **03: Feature Detection, Matching, Segmentation (Ch. 7)**\n",
    "- 04: Image Alignment and Stitching (Ch. 8)\n",
    "- 05: 3D Reconstruction (Ch. 13)\n",
    "\n",
    "We saw how to find features in the images:\n",
    "- **sometimes these features are meant to be \"matched\" for a downstream task,**\n",
    "- sometimes these features are interesting in themselves (boundaries of objects)."
   ]
  },
  {
   "cell_type": "markdown",
   "metadata": {
    "slideshow": {
     "slide_type": "slide"
    }
   },
   "source": [
    "# This Lecture\n",
    "\n",
    "- 01: Image Formation Models (Ch. 2)\n",
    "- 02: Image Operators and Transforms (Ch. 3)\n",
    "- 03: Feature Detection, Matching, Segmentation (Ch. 7)\n",
    "- **04: Image Alignment and Stitching (Ch. 8)**\n",
    "- 05: 3D Reconstruction (Ch. 13)"
   ]
  },
  {
   "cell_type": "markdown",
   "metadata": {
    "slideshow": {
     "slide_type": "slide"
    }
   },
   "source": [
    "# Definitions\n",
    "\n",
    "$\\color{#EF5645}{\\text{Matching features}}$ means to determine which features come from corresponding locations in different images.\n",
    "\n",
    "$\\color{#EF5645}{\\text{Image alignment}}$ means to find the geometric transformation that can transform an image into another. This can be done using matched features.\n",
    "\n",
    "$\\color{#EF5645}{\\text{Image stitching}}$ means \"gluing\" images together in a consistent way, for example to form a panorama. This can be done using image alignment.\n",
    "\n",
    "<center><img src=\"figs/03_main2.png\" width=400px alt=\"default\"/></center>"
   ]
  },
  {
   "cell_type": "markdown",
   "metadata": {
    "slideshow": {
     "slide_type": "slide"
    }
   },
   "source": [
    "# Image Alignment and Stitching\n",
    "\n",
    "- **[Image Alignment](#sec-syllabus)**\n",
    "\n",
    "- [Stitching](#sec-ece)"
   ]
  },
  {
   "cell_type": "markdown",
   "metadata": {},
   "source": [
    "Assume a set of matching feature points $\\left\\{x_i, x_i'\\right\\}_{i=1}^N$ has been computed. Use them for alignment?\n"
   ]
  },
  {
   "cell_type": "markdown",
   "metadata": {},
   "source": [
    "$\\color{#EF5645}{\\text{Image alignment}}$ means to find the geometric transformation that can transform an image into another. This can be done using matched features.\n",
    "\n",
    "$\\color{#6D7D33}{\\text{Method}}$: Pairwise alignment from matching using least squares (LS).\n",
    "- Given a set of $N$ matched feature points $\\left\\{x_i, x_i'\\right\\}_{i=1}^N$,\n",
    "- Given a family of planar parametric transformation of the form $x' = f(x; p)$ with parameters $p$,\n",
    "- Goal: Find the transformation parameters $p$ that minimize the LS problem:\n",
    "$$ min_p E_{LS}(p) = \\sum_{i=1}^N ||r_i||^2 = \\sum_{i=1}^N ||f(x_i; p) - x_i'||^2.$$\n",
    "\n",
    "$\\color{#EF5645}{\\text{Remark:}}$ $f(x_i; p)$ is the predicted location of the point matching $x_i$ in the second image."
   ]
  },
  {
   "cell_type": "markdown",
   "metadata": {
    "slideshow": {
     "slide_type": "slide"
    }
   },
   "source": [
    "# Role of Matched\n",
    "\n",
    "- Least square approach, possibly reweighting each of the keypoint pair\n",
    "- Pre-selecting good keypoints:\n",
    "  - $\\color{#EF5645}{\\text{RANdom SAmple Consensus (RANSAC)}}$\n",
    "  - $\\color{#EF5645}{\\text{Least Median of Squares (LMS)}}$\n",
    "  - Both:\n",
    "    - select at random a subset k of N matches.\n",
    "    - compute hat p of transformations"
   ]
  },
  {
   "cell_type": "code",
   "execution_count": null,
   "metadata": {},
   "outputs": [],
   "source": []
  },
  {
   "cell_type": "markdown",
   "metadata": {
    "slideshow": {
     "slide_type": "slide"
    }
   },
   "source": [
    "$\\color{#EF5645}{\\text{Jacobian of the transformation}}$: Many geometric transformations, such as translation, similarity, affine, have a linear relationship between the amount of motion $\\Delta x = x' - x$ and the unknown transformation parameters $p$:\n",
    "$$\\Delta x = x' - x = J(x) p,$$\n",
    "where:\n",
    "- $J(x) = \\frac{\\partial f}{\\partial p}(x)$ is the Jacobian of the transformation $f$ with respect to $p$."
   ]
  },
  {
   "cell_type": "markdown",
   "metadata": {
    "slideshow": {
     "slide_type": "slide"
    }
   },
   "source": [
    "# Jacobians of Transformations\n",
    "\n",
    "<center><img src=\"figs/04_jac.png\" width=800px alt=\"default\"/></center>\n"
   ]
  },
  {
   "cell_type": "markdown",
   "metadata": {
    "slideshow": {
     "slide_type": "slide"
    }
   },
   "source": [
    "We can get the least square problems.\n",
    "\n",
    "$\\color{#6D7D33}{\\text{Method}}$: Pairwise alignment from matching using least squares (LS).\n",
    "- Given a set of $N$ matched feature points $\\left\\{x_i, x_i'\\right\\}_{i=1}^N$,\n",
    "- Given a family of planar parametric transformation of the form $x' = f(x; p)$ with parameters $p$,\n",
    "- Goal: Find the transformation parameters $p$ that minimize the LS problem:\n",
    "$$ min_p E_{LS}(p) = \\sum_{i=1}^N ||r_i||^2 = \\sum_{i=1}^N ||f(x_i; p) - x_i'||^2.$$\n",
    "\n"
   ]
  }
 ],
 "metadata": {
  "celltoolbar": "Slideshow",
  "kernelspec": {
   "display_name": "Python 3 (ipykernel)",
   "language": "python",
   "name": "python3"
  },
  "language_info": {
   "codemirror_mode": {
    "name": "ipython",
    "version": 3
   },
   "file_extension": ".py",
   "mimetype": "text/x-python",
   "name": "python",
   "nbconvert_exporter": "python",
   "pygments_lexer": "ipython3",
   "version": "3.9.9"
  }
 },
 "nbformat": 4,
 "nbformat_minor": 2
}
